{
 "cells": [
  {
   "cell_type": "code",
   "execution_count": 163,
   "id": "99aea805",
   "metadata": {},
   "outputs": [],
   "source": [
    "def get_data():\n",
    "    with open('data.txt') as f:\n",
    "        return(map(str.strip, f.readlines()))\n",
    "    \n",
    "def letter_to_priority(letter):\n",
    "    '''\n",
    "    Maps a-z -> 1-26 and A-Z -> 27-52\n",
    "    '''\n",
    "    if str.isupper(letter):\n",
    "        priority = ord(letter) - ord('A') + 27\n",
    "    else:\n",
    "        priority = ord(letter) - ord('a') + 1\n",
    "    return priority\n",
    "\n",
    "def intersect_priority(*sacks):\n",
    "    '''\n",
    "    Finds the common character in a list of strings\n",
    "    '''\n",
    "    return letter_to_priority(\"\".join(set.intersection(*map(set, sacks))))"
   ]
  },
  {
   "cell_type": "code",
   "execution_count": 160,
   "id": "1d73a3c3",
   "metadata": {},
   "outputs": [],
   "source": [
    "def part1(rucksack):\n",
    "    midpoint = len(rucksack) // 2\n",
    "    return intersect_priority(rucksack[:midpoint], rucksack[midpoint:])"
   ]
  },
  {
   "cell_type": "code",
   "execution_count": 164,
   "id": "f0af981c",
   "metadata": {},
   "outputs": [
    {
     "name": "stdout",
     "output_type": "stream",
     "text": [
      "answer to part 1: 8088\n"
     ]
    }
   ],
   "source": [
    "print(f\"answer to part 1: {sum(map(part1, get_data()))}\")"
   ]
  },
  {
   "cell_type": "code",
   "execution_count": 165,
   "id": "d95067ab",
   "metadata": {},
   "outputs": [
    {
     "name": "stdout",
     "output_type": "stream",
     "text": [
      "Answer to part 2: 2522\n"
     ]
    }
   ],
   "source": [
    "def part2(data):\n",
    "    return sum([intersect_priority(i, next(data), next(data)) for i in data])\n",
    "\n",
    "\n",
    "print(f\"Answer to part 2: {part2(get_data())}\")"
   ]
  },
  {
   "cell_type": "code",
   "execution_count": null,
   "id": "63b6a9bd",
   "metadata": {},
   "outputs": [],
   "source": []
  },
  {
   "cell_type": "code",
   "execution_count": null,
   "id": "117c8a7d",
   "metadata": {},
   "outputs": [],
   "source": []
  }
 ],
 "metadata": {
  "kernelspec": {
   "display_name": "Python 3 (ipykernel)",
   "language": "python",
   "name": "python3"
  },
  "language_info": {
   "codemirror_mode": {
    "name": "ipython",
    "version": 3
   },
   "file_extension": ".py",
   "mimetype": "text/x-python",
   "name": "python",
   "nbconvert_exporter": "python",
   "pygments_lexer": "ipython3",
   "version": "3.9.1"
  }
 },
 "nbformat": 4,
 "nbformat_minor": 5
}
