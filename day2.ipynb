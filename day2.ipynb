{
 "cells": [
  {
   "cell_type": "markdown",
   "id": "3b174f7d",
   "metadata": {},
   "source": [
    "In this solution I map both player's rock, paper, scissors to 0, 1, 2 respectively. This means that you can calculate the result of a match by subtracting your play from your opponent's in mod 3 arithmetic, where 1 means a win, 2 means a loss and 0 means a draw. In hind sight it would probably have been simpler to hard code the win, lose and draw combinations!\n"
   ]
  },
  {
   "cell_type": "code",
   "execution_count": 7,
   "id": "80188674",
   "metadata": {},
   "outputs": [],
   "source": [
    "DRAW, WIN, LOSE = 0, 1, 2\n",
    "\n",
    "RESULT_TO_SCORE = {LOSE:0, DRAW:3, WIN:6}\n",
    "\n",
    "\n",
    "\n",
    "def convert_match_to_num(opp_play, your_play):\n",
    "    '''\n",
    "    Converts A, X -> 0, B, Y -> 1 and C, Z -> 2 so that results can be calculated using mod 3 arithmetic\n",
    "    '''\n",
    "    return ord(opp_play) - ord('A'), ord(your_play) - ord('X')\n",
    "\n",
    "\n",
    "def match_score(you, opp):\n",
    "    return RESULT_TO_SCORE[(you - opp) % 3]\n",
    "\n",
    "\n",
    "with open(\"data.txt\") as f:\n",
    "        data = [convert_match_to_num(*i.strip().split(\" \")) for i in f.readlines()]\n"
   ]
  },
  {
   "cell_type": "code",
   "execution_count": 8,
   "id": "96aa88ed",
   "metadata": {},
   "outputs": [
    {
     "name": "stdout",
     "output_type": "stream",
     "text": [
      "13682\n"
     ]
    }
   ],
   "source": [
    "def part1_solution(data):\n",
    "        score = 0\n",
    "        for opp_play, your_play in data:\n",
    "                score += your_play + 1\n",
    "                score += match_score(your_play, opp_play)\n",
    "                \n",
    "                \n",
    "        return score\n",
    "\n",
    "print(part1_solution(data))"
   ]
  },
  {
   "cell_type": "code",
   "execution_count": 9,
   "id": "cce4a30e",
   "metadata": {},
   "outputs": [
    {
     "data": {
      "text/plain": [
       "12881"
      ]
     },
     "execution_count": 9,
     "metadata": {},
     "output_type": "execute_result"
    }
   ],
   "source": [
    "code_to_result  = {0:LOSE, 1:DRAW, 2:WIN} # part 2 messes up my mod arithmetic mentioned before so I have to translate\n",
    "\n",
    "def part2_solution(data):\n",
    "    score = 0\n",
    "    for opp_play, code in data:\n",
    "        result = code_to_result[code]\n",
    "        score += RESULT_TO_SCORE[result]\n",
    "        score += (opp_play + result) % 3 + 1\n",
    "    return score\n",
    "        \n",
    "part2_solution(data)"
   ]
  },
  {
   "cell_type": "code",
   "execution_count": null,
   "id": "b1670a90",
   "metadata": {},
   "outputs": [],
   "source": []
  }
 ],
 "metadata": {
  "kernelspec": {
   "display_name": "Python 3 (ipykernel)",
   "language": "python",
   "name": "python3"
  },
  "language_info": {
   "codemirror_mode": {
    "name": "ipython",
    "version": 3
   },
   "file_extension": ".py",
   "mimetype": "text/x-python",
   "name": "python",
   "nbconvert_exporter": "python",
   "pygments_lexer": "ipython3",
   "version": "3.9.1"
  }
 },
 "nbformat": 4,
 "nbformat_minor": 5
}
