{
 "cells": [
  {
   "cell_type": "code",
   "execution_count": 5,
   "id": "6d70c093",
   "metadata": {},
   "outputs": [],
   "source": [
    "import re"
   ]
  },
  {
   "cell_type": "code",
   "execution_count": 6,
   "id": "d4962fd0",
   "metadata": {},
   "outputs": [],
   "source": [
    "with open('data.txt') as f:\n",
    "    data = [list(map(int, re.findall(r'\\d+', i))) for i in f.readlines()]\n"
   ]
  },
  {
   "cell_type": "code",
   "execution_count": 7,
   "id": "b95d11ca",
   "metadata": {},
   "outputs": [
    {
     "name": "stdout",
     "output_type": "stream",
     "text": [
      "answer to part 1: 433\n"
     ]
    }
   ],
   "source": [
    "def full_overlap(e1_start, e1_end, e2_start, e2_end):\n",
    "    return ((e1_start <= e2_start) & (e2_end <= e1_end)) or ((e2_start <= e1_start) & (e1_end <= e2_end))\n",
    "    \n",
    "print(f\"answer to part 1: {len([pair for pair in data if full_overlap(*pair)])}\")"
   ]
  },
  {
   "cell_type": "code",
   "execution_count": 8,
   "id": "a1e82db6",
   "metadata": {},
   "outputs": [
    {
     "name": "stdout",
     "output_type": "stream",
     "text": [
      "answer to part 2: 852\n"
     ]
    }
   ],
   "source": [
    "def partial_overlap(e1_start, e1_end, e2_start, e2_end):\n",
    "    return ((e1_start <= e2_start) & (e2_start <= e1_end)) or ((e2_start <= e1_start) & (e1_start <= e2_end))\n",
    "\n",
    "print(f\"answer to part 2: {len([pair for pair in data if partial_overlap(*pair)])}\")"
   ]
  },
  {
   "cell_type": "code",
   "execution_count": null,
   "id": "0c536ce4",
   "metadata": {},
   "outputs": [],
   "source": []
  }
 ],
 "metadata": {
  "kernelspec": {
   "display_name": "Python 3 (ipykernel)",
   "language": "python",
   "name": "python3"
  },
  "language_info": {
   "codemirror_mode": {
    "name": "ipython",
    "version": 3
   },
   "file_extension": ".py",
   "mimetype": "text/x-python",
   "name": "python",
   "nbconvert_exporter": "python",
   "pygments_lexer": "ipython3",
   "version": "3.9.1"
  }
 },
 "nbformat": 4,
 "nbformat_minor": 5
}
